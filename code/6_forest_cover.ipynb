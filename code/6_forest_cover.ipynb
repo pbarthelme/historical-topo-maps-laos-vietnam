{
 "cells": [
  {
   "cell_type": "markdown",
   "metadata": {},
   "source": [
    "### Forest cover analysis\n",
    "This notebooks calculates all forest cover statstics and outputs including change compared to the GLC_FCD30D data from 1990."
   ]
  },
  {
   "cell_type": "code",
   "execution_count": 1,
   "metadata": {},
   "outputs": [],
   "source": [
    "import geopandas as gpd\n",
    "import numpy as np\n",
    "import os\n",
    "import pandas as pd\n",
    "import shutil\n",
    "\n",
    "from rasterio.warp import Resampling\n",
    "\n",
    "from config import Config\n",
    "from core.analysis import calc_lucc_stats, calc_luc_frac, create_change_map, reproject_align_raster, reproject_raster\n",
    "from core.utils import get_mapping_from_csv"
   ]
  },
  {
   "cell_type": "code",
   "execution_count": 2,
   "metadata": {},
   "outputs": [],
   "source": [
    "config = Config.Config()"
   ]
  },
  {
   "cell_type": "code",
   "execution_count": 3,
   "metadata": {},
   "outputs": [],
   "source": [
    "fcs30_mapping = get_mapping_from_csv(config.luc_fcs30_legend_path, col_key=\"pixel\", col_value=\"class\")    \n",
    "fcs30_l1_mapping = get_mapping_from_csv(config.luc_fcs30_legend_path, col_key=\"pixel\", col_value=\"class_l1\")    \n",
    "topo_mapping = get_mapping_from_csv(config.topo_legend_path, col_key=\"pixel\", col_value=\"class_l2\")\n",
    "topo_cmap = get_mapping_from_csv(config.topo_legend_path, col_key=\"pixel\", col_value=\"color_rgba\", convert_rgba=True)\n",
    "pixel_area = config.fcs30_resolution**2 / 1e6"
   ]
  },
  {
   "cell_type": "markdown",
   "metadata": {},
   "source": [
    "## Reproject and align raster files"
   ]
  },
  {
   "cell_type": "code",
   "execution_count": 4,
   "metadata": {},
   "outputs": [],
   "source": [
    "if os.path.exists(config.analysis_forest_folder):\n",
    "    shutil.rmtree(config.analysis_forest_folder)\n",
    "os.makedirs(config.analysis_forest_folder)"
   ]
  },
  {
   "cell_type": "markdown",
   "metadata": {},
   "source": [
    "#"
   ]
  },
  {
   "cell_type": "code",
   "execution_count": 5,
   "metadata": {},
   "outputs": [],
   "source": [
    "# Reproject FCS30 raster to projected crs used for topo maps at its native resolution\n",
    "reproject_raster(config.luc_fcs30_1990_path, config.raster_fcs30_1990_proj_path, config.output_crs, resolution=config.fcs30_resolution, resampling=Resampling.nearest)"
   ]
  },
  {
   "cell_type": "code",
   "execution_count": 6,
   "metadata": {},
   "outputs": [
    {
     "name": "stdout",
     "output_type": "stream",
     "text": [
      "Writing colormap\n"
     ]
    }
   ],
   "source": [
    "# Reproject topo raster to same resolution and alignment as projected FCS30 raster\n",
    "reproject_align_raster(config.raster_topo_l2_path, config.raster_fcs30_1990_proj_path, config.raster_topo_aligned_fcs30_path, resampling=Resampling.mode, colormap=topo_cmap)"
   ]
  },
  {
   "cell_type": "markdown",
   "metadata": {},
   "source": [
    "## Aggregate forest changes by study area"
   ]
  },
  {
   "cell_type": "code",
   "execution_count": 7,
   "metadata": {},
   "outputs": [],
   "source": [
    "study_area_lao = gpd.read_file(config.study_area_lao_path).geometry[0]\n",
    "study_area_svnm = gpd.read_file(config.study_area_svnm_path).geometry[0]\n",
    "study_areas = gpd.GeoDataFrame({\n",
    "    \"region\": [\"Lao\", \"South Vietnam\"],\n",
    "    \"geometry\": [study_area_lao, study_area_svnm]\n",
    "}, crs=config.output_crs)"
   ]
  },
  {
   "cell_type": "code",
   "execution_count": 8,
   "metadata": {},
   "outputs": [
    {
     "data": {
      "text/html": [
       "<div>\n",
       "<style scoped>\n",
       "    .dataframe tbody tr th:only-of-type {\n",
       "        vertical-align: middle;\n",
       "    }\n",
       "\n",
       "    .dataframe tbody tr th {\n",
       "        vertical-align: top;\n",
       "    }\n",
       "\n",
       "    .dataframe thead th {\n",
       "        text-align: right;\n",
       "    }\n",
       "</style>\n",
       "<table border=\"1\" class=\"dataframe\">\n",
       "  <thead>\n",
       "    <tr style=\"text-align: right;\">\n",
       "      <th></th>\n",
       "      <th>geometry</th>\n",
       "      <th>region</th>\n",
       "      <th>area</th>\n",
       "      <th>src_perc</th>\n",
       "      <th>dst_perc</th>\n",
       "      <th>change_perc_total_area</th>\n",
       "      <th>change_perc_src_area</th>\n",
       "      <th>src_pixels</th>\n",
       "      <th>dst_pixels</th>\n",
       "      <th>src_area</th>\n",
       "      <th>dst_area</th>\n",
       "      <th>change_area</th>\n",
       "    </tr>\n",
       "    <tr>\n",
       "      <th>region</th>\n",
       "      <th></th>\n",
       "      <th></th>\n",
       "      <th></th>\n",
       "      <th></th>\n",
       "      <th></th>\n",
       "      <th></th>\n",
       "      <th></th>\n",
       "      <th></th>\n",
       "      <th></th>\n",
       "      <th></th>\n",
       "      <th></th>\n",
       "      <th></th>\n",
       "    </tr>\n",
       "  </thead>\n",
       "  <tbody>\n",
       "    <tr>\n",
       "      <th>Lao</th>\n",
       "      <td>MULTIPOLYGON (((-2027355.81 3268113.142, -2027...</td>\n",
       "      <td>Lao</td>\n",
       "      <td>225542.7</td>\n",
       "      <td>81.3</td>\n",
       "      <td>66.5</td>\n",
       "      <td>-14.8</td>\n",
       "      <td>-18.2</td>\n",
       "      <td>250603020.0</td>\n",
       "      <td>250603020.0</td>\n",
       "      <td>183263.4</td>\n",
       "      <td>149973.5</td>\n",
       "      <td>-33289.9</td>\n",
       "    </tr>\n",
       "    <tr>\n",
       "      <th>South Vietnam</th>\n",
       "      <td>MULTIPOLYGON (((-1749472.749 3100402.783, -174...</td>\n",
       "      <td>South Vietnam</td>\n",
       "      <td>141163.6</td>\n",
       "      <td>52.6</td>\n",
       "      <td>39.5</td>\n",
       "      <td>-13.1</td>\n",
       "      <td>-25.0</td>\n",
       "      <td>156848452.7</td>\n",
       "      <td>156848452.7</td>\n",
       "      <td>74298.2</td>\n",
       "      <td>55748.8</td>\n",
       "      <td>-18549.4</td>\n",
       "    </tr>\n",
       "  </tbody>\n",
       "</table>\n",
       "</div>"
      ],
      "text/plain": [
       "                                                        geometry  \\\n",
       "region                                                             \n",
       "Lao            MULTIPOLYGON (((-2027355.81 3268113.142, -2027...   \n",
       "South Vietnam  MULTIPOLYGON (((-1749472.749 3100402.783, -174...   \n",
       "\n",
       "                      region      area  src_perc  dst_perc  \\\n",
       "region                                                       \n",
       "Lao                      Lao  225542.7      81.3      66.5   \n",
       "South Vietnam  South Vietnam  141163.6      52.6      39.5   \n",
       "\n",
       "               change_perc_total_area  change_perc_src_area   src_pixels  \\\n",
       "region                                                                     \n",
       "Lao                             -14.8                 -18.2  250603020.0   \n",
       "South Vietnam                   -13.1                 -25.0  156848452.7   \n",
       "\n",
       "                dst_pixels  src_area  dst_area  change_area  \n",
       "region                                                       \n",
       "Lao            250603020.0  183263.4  149973.5     -33289.9  \n",
       "South Vietnam  156848452.7   74298.2   55748.8     -18549.4  "
      ]
     },
     "execution_count": 8,
     "metadata": {},
     "output_type": "execute_result"
    }
   ],
   "source": [
    "res_forest_change = calc_lucc_stats(\n",
    "    study_areas,\n",
    "    index_cols=\"region\",\n",
    "    src_raster=config.raster_topo_aligned_fcs30_path,\n",
    "    dst_raster=config.raster_fcs30_1990_proj_path,\n",
    "    src_mapping=topo_mapping,\n",
    "    dst_mapping=fcs30_mapping,\n",
    "    src_class=\"forest\",\n",
    "    dst_class=\"Forest\",\n",
    "    pixel_area=pixel_area\n",
    ")\n",
    "res_forest_change.drop(\"geometry\", axis=1).to_csv(config.forest_stats_study_area, index=False)\n",
    "np.round(res_forest_change, 1)"
   ]
  },
  {
   "cell_type": "markdown",
   "metadata": {},
   "source": [
    "# Aggregate forest changes by map sheet"
   ]
  },
  {
   "cell_type": "code",
   "execution_count": 9,
   "metadata": {},
   "outputs": [],
   "source": [
    "# Load map sheet index\n",
    "ms_index = gpd.read_file(config.map_sheet_index_geo_overedge_path).to_crs(config.output_crs)\n",
    "ms_index = ms_index[[\"key\", \"edition\", \"map_info_date\", \"legend_type\", \"geometry\"]]\n",
    "\n",
    "# Crop to study area outline removing parts of map sheets not in GADM outlines of Vietnam and Laos\n",
    "study_area = gpd.read_file(config.study_area_path).geometry[0]\n",
    "ms_index.geometry = ms_index.geometry.intersection(study_area).make_valid()\n",
    "ms_index = ms_index[ms_index.geometry.is_empty == False]"
   ]
  },
  {
   "cell_type": "code",
   "execution_count": 10,
   "metadata": {},
   "outputs": [],
   "source": [
    "# Calculate forest cover change stats per map sheet\n",
    "ms_index = calc_lucc_stats(\n",
    "    ms_index,\n",
    "    index_cols=\"key\",\n",
    "    src_raster=config.raster_topo_aligned_fcs30_path,\n",
    "    dst_raster=config.raster_fcs30_1990_proj_path,\n",
    "    src_mapping=topo_mapping,\n",
    "    dst_mapping=fcs30_mapping,\n",
    "    src_class=\"forest\",\n",
    "    dst_class=\"Forest\",\n",
    "    pixel_area=pixel_area\n",
    ")\n",
    "\n",
    "ms_index[\"forest_loss\"] = ms_index[\"change_area\"].apply(lambda x: -x if x < 0 else 0)\n",
    "ms_index[\"forest_gain\"] = ms_index[\"change_area\"].apply(lambda x: x if x > 0 else 0)"
   ]
  },
  {
   "cell_type": "code",
   "execution_count": 11,
   "metadata": {},
   "outputs": [
    {
     "name": "stdout",
     "output_type": "stream",
     "text": [
      "Output written to ../data/processed/analysis/forest/forest_loss_topo_fcs30_1990.tif\n"
     ]
    },
    {
     "data": {
      "text/html": [
       "<div>\n",
       "<style scoped>\n",
       "    .dataframe tbody tr th:only-of-type {\n",
       "        vertical-align: middle;\n",
       "    }\n",
       "\n",
       "    .dataframe tbody tr th {\n",
       "        vertical-align: top;\n",
       "    }\n",
       "\n",
       "    .dataframe thead th {\n",
       "        text-align: right;\n",
       "    }\n",
       "</style>\n",
       "<table border=\"1\" class=\"dataframe\">\n",
       "  <thead>\n",
       "    <tr style=\"text-align: right;\">\n",
       "      <th></th>\n",
       "      <th>edition</th>\n",
       "      <th>map_info_date</th>\n",
       "      <th>legend_type</th>\n",
       "      <th>geometry</th>\n",
       "      <th>key</th>\n",
       "      <th>area</th>\n",
       "      <th>src_perc</th>\n",
       "      <th>dst_perc</th>\n",
       "      <th>change_perc_total_area</th>\n",
       "      <th>change_perc_src_area</th>\n",
       "      <th>src_pixels</th>\n",
       "      <th>dst_pixels</th>\n",
       "      <th>src_area</th>\n",
       "      <th>dst_area</th>\n",
       "      <th>change_area</th>\n",
       "      <th>forest_loss</th>\n",
       "      <th>forest_gain</th>\n",
       "      <th>maj_forest_loss_transition</th>\n",
       "      <th>maj_forest_loss_transition_color</th>\n",
       "    </tr>\n",
       "    <tr>\n",
       "      <th>key</th>\n",
       "      <th></th>\n",
       "      <th></th>\n",
       "      <th></th>\n",
       "      <th></th>\n",
       "      <th></th>\n",
       "      <th></th>\n",
       "      <th></th>\n",
       "      <th></th>\n",
       "      <th></th>\n",
       "      <th></th>\n",
       "      <th></th>\n",
       "      <th></th>\n",
       "      <th></th>\n",
       "      <th></th>\n",
       "      <th></th>\n",
       "      <th></th>\n",
       "      <th></th>\n",
       "      <th></th>\n",
       "      <th></th>\n",
       "    </tr>\n",
       "  </thead>\n",
       "  <tbody>\n",
       "    <tr>\n",
       "      <th>50491</th>\n",
       "      <td>2-AMS</td>\n",
       "      <td>1965</td>\n",
       "      <td>6</td>\n",
       "      <td>POLYGON ((-2856826.453 3833631.259, -2828043.3...</td>\n",
       "      <td>50491</td>\n",
       "      <td>499.506552</td>\n",
       "      <td>95.909533</td>\n",
       "      <td>56.878993</td>\n",
       "      <td>-39.030540</td>\n",
       "      <td>-40.695162</td>\n",
       "      <td>555007.280232</td>\n",
       "      <td>555007.280232</td>\n",
       "      <td>479.074403</td>\n",
       "      <td>284.114298</td>\n",
       "      <td>-194.960106</td>\n",
       "      <td>194.960106</td>\n",
       "      <td>0.0</td>\n",
       "      <td>Shrubland</td>\n",
       "      <td>#966400</td>\n",
       "    </tr>\n",
       "    <tr>\n",
       "      <th>50494</th>\n",
       "      <td>2-AMS</td>\n",
       "      <td>1965</td>\n",
       "      <td>6</td>\n",
       "      <td>POLYGON ((-2856826.453 3833631.259, -2855673.8...</td>\n",
       "      <td>50494</td>\n",
       "      <td>330.000098</td>\n",
       "      <td>85.278115</td>\n",
       "      <td>40.171187</td>\n",
       "      <td>-45.106928</td>\n",
       "      <td>-52.893908</td>\n",
       "      <td>366666.775044</td>\n",
       "      <td>366666.775044</td>\n",
       "      <td>281.417863</td>\n",
       "      <td>132.564958</td>\n",
       "      <td>-148.852906</td>\n",
       "      <td>148.852906</td>\n",
       "      <td>0.0</td>\n",
       "      <td>Shrubland</td>\n",
       "      <td>#966400</td>\n",
       "    </tr>\n",
       "    <tr>\n",
       "      <th>50501</th>\n",
       "      <td>1-AMS</td>\n",
       "      <td>1965</td>\n",
       "      <td>6</td>\n",
       "      <td>POLYGON ((-2830219.422 3861019.533, -2857293.8...</td>\n",
       "      <td>50501</td>\n",
       "      <td>148.816483</td>\n",
       "      <td>96.406453</td>\n",
       "      <td>44.138082</td>\n",
       "      <td>-52.268371</td>\n",
       "      <td>-54.216672</td>\n",
       "      <td>165351.648227</td>\n",
       "      <td>165351.648227</td>\n",
       "      <td>143.468694</td>\n",
       "      <td>65.684742</td>\n",
       "      <td>-77.783952</td>\n",
       "      <td>77.783952</td>\n",
       "      <td>0.0</td>\n",
       "      <td>Shrubland</td>\n",
       "      <td>#966400</td>\n",
       "    </tr>\n",
       "  </tbody>\n",
       "</table>\n",
       "</div>"
      ],
      "text/plain": [
       "      edition  map_info_date  legend_type  \\\n",
       "key                                         \n",
       "50491   2-AMS           1965            6   \n",
       "50494   2-AMS           1965            6   \n",
       "50501   1-AMS           1965            6   \n",
       "\n",
       "                                                geometry    key        area  \\\n",
       "key                                                                           \n",
       "50491  POLYGON ((-2856826.453 3833631.259, -2828043.3...  50491  499.506552   \n",
       "50494  POLYGON ((-2856826.453 3833631.259, -2855673.8...  50494  330.000098   \n",
       "50501  POLYGON ((-2830219.422 3861019.533, -2857293.8...  50501  148.816483   \n",
       "\n",
       "        src_perc   dst_perc  change_perc_total_area  change_perc_src_area  \\\n",
       "key                                                                         \n",
       "50491  95.909533  56.878993              -39.030540            -40.695162   \n",
       "50494  85.278115  40.171187              -45.106928            -52.893908   \n",
       "50501  96.406453  44.138082              -52.268371            -54.216672   \n",
       "\n",
       "          src_pixels     dst_pixels    src_area    dst_area  change_area  \\\n",
       "key                                                                        \n",
       "50491  555007.280232  555007.280232  479.074403  284.114298  -194.960106   \n",
       "50494  366666.775044  366666.775044  281.417863  132.564958  -148.852906   \n",
       "50501  165351.648227  165351.648227  143.468694   65.684742   -77.783952   \n",
       "\n",
       "       forest_loss  forest_gain maj_forest_loss_transition  \\\n",
       "key                                                          \n",
       "50491   194.960106          0.0                  Shrubland   \n",
       "50494   148.852906          0.0                  Shrubland   \n",
       "50501    77.783952          0.0                  Shrubland   \n",
       "\n",
       "      maj_forest_loss_transition_color  \n",
       "key                                     \n",
       "50491                          #966400  \n",
       "50494                          #966400  \n",
       "50501                          #966400  "
      ]
     },
     "execution_count": 11,
     "metadata": {},
     "output_type": "execute_result"
    }
   ],
   "source": [
    "# Create forest loss transition raster\n",
    "create_change_map(\n",
    "    config.raster_topo_aligned_fcs30_path,\n",
    "    config.raster_fcs30_1990_proj_path,\n",
    "    output_path=config.raster_forest_loss_path,\n",
    "    src_raster_vals=config.topo_forest_vals,\n",
    "    dst_raster_exclude=config.fcs30_forest_vals\n",
    ")\n",
    "\n",
    "# Calculate forest loss transitions per map sheet\n",
    "forest_loss_frac = calc_luc_frac(config.raster_forest_loss_path, ms_index, include_cols=\"key\", mapping=fcs30_l1_mapping)\n",
    "\n",
    "# Map back to map sheet index including color of most common transition for each map sheet\n",
    "forest_loss_frac[\"maj_forest_loss_transition\"] = forest_loss_frac.drop([\"count\", \"Filled value\"], axis=1).idxmax(axis=1)\n",
    "ms_index[\"maj_forest_loss_transition\"] = ms_index[[\"key\"]].join(forest_loss_frac[[\"maj_forest_loss_transition\"]])[\"maj_forest_loss_transition\"]\n",
    "\n",
    "legend_fcs30 = pd.read_csv(config.luc_fcs30_legend_path).drop_duplicates(\"class_l1\")\n",
    "color_mapping = {name: color for name, color in zip(legend_fcs30[\"class_l1\"], legend_fcs30[\"color\"])}\n",
    "ms_index[\"maj_forest_loss_transition_color\"] = ms_index[\"maj_forest_loss_transition\"].map(color_mapping)\n",
    "ms_index.head(3)"
   ]
  },
  {
   "cell_type": "code",
   "execution_count": 12,
   "metadata": {},
   "outputs": [
    {
     "data": {
      "text/plain": [
       "maj_forest_loss_transition  maj_forest_loss_transition_color\n",
       "Shrubland                   #966400                             619\n",
       "Rainfed cropland            #ffff64                             141\n",
       "Irrigated cropland          #aaf0f0                              69\n",
       "Impervious surface          #c31400                              17\n",
       "Water body                  #0046c8                               3\n",
       "Bare areas                  #fff5d7                               2\n",
       "Coastal wetland             #f57ab6                               1\n",
       "Name: count, dtype: int64"
      ]
     },
     "execution_count": 12,
     "metadata": {},
     "output_type": "execute_result"
    }
   ],
   "source": [
    "ms_index[[\"maj_forest_loss_transition\", \"maj_forest_loss_transition_color\"]].value_counts()"
   ]
  },
  {
   "cell_type": "code",
   "execution_count": 13,
   "metadata": {},
   "outputs": [
    {
     "name": "stderr",
     "output_type": "stream",
     "text": [
      "/home/s1835403/datastore/.conda/envs/topo-maps/lib/python3.12/site-packages/pyogrio/raw.py:723: RuntimeWarning: NaN of Infinity value found. Skipped\n",
      "  ogr_write(\n"
     ]
    }
   ],
   "source": [
    "ms_index.to_file(config.forest_stats_map_sheets, driver=\"GeoJSON\", index=False)"
   ]
  }
 ],
 "metadata": {
  "kernelspec": {
   "display_name": "Python 3",
   "language": "python",
   "name": "python3"
  },
  "language_info": {
   "codemirror_mode": {
    "name": "ipython",
    "version": 3
   },
   "file_extension": ".py",
   "mimetype": "text/x-python",
   "name": "python",
   "nbconvert_exporter": "python",
   "pygments_lexer": "ipython3",
   "version": "3.12.4"
  }
 },
 "nbformat": 4,
 "nbformat_minor": 2
}
