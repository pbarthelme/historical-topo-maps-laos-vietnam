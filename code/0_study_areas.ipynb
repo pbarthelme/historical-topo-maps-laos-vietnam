{
 "cells": [
  {
   "cell_type": "markdown",
   "metadata": {},
   "source": [
    "### Study area polygons\n",
    "* Create polygons for Laos, Vietnam, North Vietnam and South Vietnam based on GADM country boundaries which are later used for cropping the final LUC maps\n",
    "* Create study area polygons defined as intersections between GADM country outlines and topographic map sheet coverage -> statistics on percentage covered by the maps are reported below\n",
    "* merge input LUC data provided in tiled format for tiles withing the study area"
   ]
  },
  {
   "cell_type": "code",
   "execution_count": 1,
   "metadata": {},
   "outputs": [],
   "source": [
    "import geopandas as gpd\n",
    "import numpy as np\n",
    "import os\n",
    "\n",
    "from shapely.geometry import box\n",
    "\n",
    "from config import Config\n",
    "from core.utils import merge_tifs_within_study_area"
   ]
  },
  {
   "cell_type": "code",
   "execution_count": 2,
   "metadata": {},
   "outputs": [],
   "source": [
    "config = Config.Config()"
   ]
  },
  {
   "cell_type": "code",
   "execution_count": 3,
   "metadata": {},
   "outputs": [],
   "source": [
    "for path in config.cropping_geoms.values():\n",
    "    directory = os.path.dirname(path)\n",
    "    if not os.path.exists(directory):\n",
    "        os.makedirs(directory, exist_ok=True)"
   ]
  },
  {
   "cell_type": "code",
   "execution_count": 4,
   "metadata": {},
   "outputs": [],
   "source": [
    "ms_index = gpd.read_file(config.map_sheet_index_geo_overedge_path).to_crs(config.output_crs)\n",
    "ms_area = ms_index.union_all()"
   ]
  },
  {
   "cell_type": "markdown",
   "metadata": {},
   "source": [
    "## Lao"
   ]
  },
  {
   "cell_type": "code",
   "execution_count": 5,
   "metadata": {},
   "outputs": [],
   "source": [
    "lao = gpd.read_file(config.lao_gadm_path).to_crs(config.output_crs)\n",
    "lao.to_file(config.cropping_geoms.get(\"lao\"), driver=\"GeoJSON\")\n",
    "\n",
    "# Define the study area as intersections of country boundaries with map sheet coverage\n",
    "study_area_lao = lao.intersection(ms_area)\n",
    "study_area_lao.to_file(config.study_area_lao_path, driver=\"GeoJSON\")"
   ]
  },
  {
   "cell_type": "code",
   "execution_count": 6,
   "metadata": {},
   "outputs": [
    {
     "name": "stdout",
     "output_type": "stream",
     "text": [
      "Map sheets cover 98.12% of total area of Lao PDR (based on GADM boundaries).\n"
     ]
    }
   ],
   "source": [
    "lao_ms_cover = np.round(study_area_lao.area[0]/lao.geometry.area[0] * 100, 2)\n",
    "print(f\"Map sheets cover {lao_ms_cover}% of total area of Lao PDR (based on GADM boundaries).\")"
   ]
  },
  {
   "cell_type": "markdown",
   "metadata": {},
   "source": [
    "## Vietnam"
   ]
  },
  {
   "cell_type": "code",
   "execution_count": 7,
   "metadata": {},
   "outputs": [],
   "source": [
    "vnm = gpd.read_file(config.vnm_gadm_path).to_crs(config.output_crs)"
   ]
  },
  {
   "cell_type": "code",
   "execution_count": 8,
   "metadata": {},
   "outputs": [],
   "source": [
    "# Create two additional areas of north and south vietnam based on the 17th parallel \n",
    "# as the legend between these sheets slightly differs\n",
    "clipping_gdf_svnm = gpd.GeoDataFrame({\"geometry\": [box(80, 0, 150, 17)]}, crs=config.map_sheet_index_crs).to_crs(config.output_crs)\n",
    "clipping_gdf_nvnm = gpd.GeoDataFrame({\"geometry\": [box(80, 17, 150, 90)]}, crs=config.map_sheet_index_crs).to_crs(config.output_crs)\n",
    "\n",
    "# Perform the clip operation\n",
    "svnm = gpd.overlay(vnm, clipping_gdf_svnm, how=\"intersection\")\n",
    "nvnm = gpd.overlay(vnm, clipping_gdf_nvnm, how=\"intersection\")\n",
    "\n",
    "# Write out final area geometries\n",
    "vnm.to_file(config.cropping_geoms.get(\"vnm\"), driver=\"GeoJSON\")\n",
    "svnm.to_file(config.cropping_geoms.get(\"svnm\"), driver=\"GeoJSON\")\n",
    "nvnm.to_file(config.cropping_geoms.get(\"nvnm\"), driver=\"GeoJSON\")"
   ]
  },
  {
   "cell_type": "code",
   "execution_count": 9,
   "metadata": {},
   "outputs": [],
   "source": [
    "# Define the study areas as intersections of country boundaries with map sheet coverage\n",
    "study_area_vnm = vnm.intersection(ms_area)\n",
    "study_area_svnm = svnm.intersection(ms_area)\n",
    "study_area_nvnm = nvnm.intersection(ms_area)\n",
    "\n",
    "study_area_vnm.to_file(config.study_area_vnm_path, driver=\"GeoJSON\")\n",
    "study_area_svnm.to_file(config.study_area_svnm_path, driver=\"GeoJSON\")\n",
    "study_area_nvnm.to_file(config.study_area_nvnm_path, driver=\"GeoJSON\")"
   ]
  },
  {
   "cell_type": "code",
   "execution_count": 10,
   "metadata": {},
   "outputs": [
    {
     "name": "stdout",
     "output_type": "stream",
     "text": [
      "Map sheets cover 98.92% of total area of Vietnam (based on GADM boundaries).\n"
     ]
    }
   ],
   "source": [
    "vnm_ms_cover = np.round(study_area_vnm.area[0]/vnm.geometry.area[0] * 100, 2)\n",
    "print(f\"Map sheets cover {vnm_ms_cover}% of total area of Vietnam (based on GADM boundaries).\")"
   ]
  },
  {
   "cell_type": "code",
   "execution_count": 11,
   "metadata": {},
   "outputs": [
    {
     "name": "stdout",
     "output_type": "stream",
     "text": [
      "Map sheets cover 99.73% of total area of Vietnam south of 17°.\n"
     ]
    }
   ],
   "source": [
    "svnm_ms_cover = np.round(study_area_svnm.area[0]/svnm.geometry.area[0] * 100, 2)\n",
    "print(f\"Map sheets cover {svnm_ms_cover}% of total area of Vietnam south of 17°.\")"
   ]
  },
  {
   "cell_type": "code",
   "execution_count": 12,
   "metadata": {},
   "outputs": [
    {
     "name": "stdout",
     "output_type": "stream",
     "text": [
      "Map sheets cover 98.31% of total area of Vietnam north of 17°.\n"
     ]
    }
   ],
   "source": [
    "nvnm_ms_cover = np.round(study_area_nvnm.area[0]/nvnm.geometry.area[0] * 100, 2)\n",
    "print(f\"Map sheets cover {nvnm_ms_cover}% of total area of Vietnam north of 17°.\")"
   ]
  },
  {
   "cell_type": "markdown",
   "metadata": {},
   "source": [
    "## Vietnam and Laos combined"
   ]
  },
  {
   "cell_type": "code",
   "execution_count": 13,
   "metadata": {},
   "outputs": [],
   "source": [
    "study_area= study_area_vnm.union(study_area_lao)\n",
    "study_area.to_file(config.study_area_path, driver=\"GeoJSON\")"
   ]
  },
  {
   "cell_type": "markdown",
   "metadata": {},
   "source": [
    "# Merge tiled external LUC data "
   ]
  },
  {
   "cell_type": "code",
   "execution_count": 14,
   "metadata": {},
   "outputs": [],
   "source": [
    "# Study area\n",
    "study_area = gpd.read_file(config.study_area_path).to_crs(\"EPSG:4326\")\n",
    "\n",
    "# Mangrove study area (EEZ land union polygon)\n",
    "eez = gpd.read_file(config.vnm_eez_land_path)\n",
    "vnm_eez = eez[eez[\"UNION\"] == \"Vietnam\"].reset_index(drop=True).to_crs(\"EPSG:4326\")"
   ]
  },
  {
   "cell_type": "code",
   "execution_count": 15,
   "metadata": {},
   "outputs": [
    {
     "name": "stdout",
     "output_type": "stream",
     "text": [
      "Merged TIFF saved as ../data/raw/luc/gmw_1996_merged.tif\n"
     ]
    }
   ],
   "source": [
    "# Global Mangrove Watch\n",
    "merge_tifs_within_study_area(\n",
    "    input_folder=config.gmw_1996_folder,\n",
    "    output_file=config.gmw_1996_merged_path,\n",
    "    study_area=vnm_eez\n",
    ")"
   ]
  },
  {
   "cell_type": "code",
   "execution_count": 16,
   "metadata": {},
   "outputs": [
    {
     "name": "stdout",
     "output_type": "stream",
     "text": [
      "Merged TIFF saved as ../data/raw/luc/luc_glc_fcs30_1985.tif\n"
     ]
    }
   ],
   "source": [
    "# GLC_FCS30D 1985\n",
    "merge_tifs_within_study_area(\n",
    "    input_folder=config.luc_fcs30_folder,\n",
    "    output_file=config.luc_fcs30_1985_path,\n",
    "    study_area=study_area,\n",
    "    file_prefix=\"GLC_FCS30_19852000\",\n",
    "    indexes=[1]\n",
    ")"
   ]
  },
  {
   "cell_type": "code",
   "execution_count": 17,
   "metadata": {},
   "outputs": [
    {
     "name": "stdout",
     "output_type": "stream",
     "text": [
      "Merged TIFF saved as ../data/raw/luc/luc_glc_fcs30_1990.tif\n"
     ]
    }
   ],
   "source": [
    "# GLC_FCS30D 1990\n",
    "merge_tifs_within_study_area(\n",
    "    input_folder=config.luc_fcs30_folder,\n",
    "    output_file=config.luc_fcs30_1990_path,\n",
    "    study_area=study_area,\n",
    "    file_prefix=\"GLC_FCS30_19852000\",\n",
    "    indexes=[2]\n",
    ")"
   ]
  }
 ],
 "metadata": {
  "kernelspec": {
   "display_name": "Python 3",
   "language": "python",
   "name": "python3"
  },
  "language_info": {
   "codemirror_mode": {
    "name": "ipython",
    "version": 3
   },
   "file_extension": ".py",
   "mimetype": "text/x-python",
   "name": "python",
   "nbconvert_exporter": "python",
   "pygments_lexer": "ipython3",
   "version": "3.12.4"
  }
 },
 "nbformat": 4,
 "nbformat_minor": 2
}
