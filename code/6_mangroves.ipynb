{
 "cells": [
  {
   "cell_type": "markdown",
   "metadata": {},
   "source": [
    "### Mangrove cover analysis\n",
    "This notebooks calculates all mangrove cover statstics and outputs including change compared to the Global Mangrove Watch data from 1996."
   ]
  },
  {
   "cell_type": "code",
   "execution_count": 1,
   "metadata": {},
   "outputs": [],
   "source": [
    "import geopandas as gpd\n",
    "import numpy as np\n",
    "import os\n",
    "import shutil\n",
    "\n",
    "from rasterio.warp import Resampling\n",
    "\n",
    "from config import Config\n",
    "from core.analysis import calc_lucc_stats, clip_and_polygonize_raster, reproject_align_raster, reproject_raster\n",
    "from core.utils import create_polygon, get_mapping_from_csv"
   ]
  },
  {
   "cell_type": "code",
   "execution_count": 2,
   "metadata": {},
   "outputs": [],
   "source": [
    "config = Config.Config()"
   ]
  },
  {
   "cell_type": "code",
   "execution_count": 3,
   "metadata": {},
   "outputs": [],
   "source": [
    "topo_mapping = get_mapping_from_csv(config.topo_legend_path, col_key=\"pixel\", col_value=\"class_l2\")\n",
    "topo_cmap = get_mapping_from_csv(config.topo_legend_path, col_key=\"pixel\", col_value=\"color_rgba\", convert_rgba=True)\n",
    "gmw_mapping = {0: \"no mangrove\", 1: \"mangrove\"}\n",
    "pixel_area = config.gmw_resolution**2 / 1e6"
   ]
  },
  {
   "cell_type": "markdown",
   "metadata": {},
   "source": [
    "## Merge, reproject and align rasters"
   ]
  },
  {
   "cell_type": "code",
   "execution_count": 4,
   "metadata": {},
   "outputs": [],
   "source": [
    "if os.path.exists(config.analysis_mangrove_folder):\n",
    "    shutil.rmtree(config.analysis_mangrove_folder)\n",
    "os.makedirs(config.analysis_mangrove_folder)"
   ]
  },
  {
   "cell_type": "code",
   "execution_count": 5,
   "metadata": {},
   "outputs": [],
   "source": [
    "# Reproject GMW raster to projected crs used for topo maps at its native resolution\n",
    "reproject_raster(config.gmw_1996_merged_path, config.gmw_1996_proj_path, config.output_crs, resolution=config.gmw_resolution, resampling=Resampling.nearest)"
   ]
  },
  {
   "cell_type": "code",
   "execution_count": 6,
   "metadata": {},
   "outputs": [
    {
     "name": "stdout",
     "output_type": "stream",
     "text": [
      "Writing colormap\n"
     ]
    }
   ],
   "source": [
    "# Reproject topo raster to same resolution and alignment as projected GLC raster\n",
    "reproject_align_raster(config.raster_topo_l2_path, config.gmw_1996_proj_path, config.topo_aligned_gmw_path, resampling=Resampling.mode, colormap=topo_cmap)"
   ]
  },
  {
   "cell_type": "markdown",
   "metadata": {},
   "source": [
    "## Define study area and zones"
   ]
  },
  {
   "cell_type": "code",
   "execution_count": 7,
   "metadata": {},
   "outputs": [],
   "source": [
    "# Load Vietnam EEz land union polygon\n",
    "eez = gpd.read_file(config.vnm_eez_land_path)\n",
    "vnm_eez = eez[eez[\"UNION\"] == \"Vietnam\"].reset_index(drop=True).to_crs(\"EPSG:4326\")\n",
    "\n",
    "# Load map sheets\n",
    "ms_index = gpd.read_file(config.map_sheet_index_geo_overedge_path).to_crs(\"EPSG:4326\")\n",
    "ms_area = ms_index.union_all()\n",
    "\n",
    "# Load U Minh area polygon\n",
    "u_minh = gpd.read_file(config.u_minh_path).to_crs(\"EPSG:4326\").geometry[0]\n",
    "\n",
    "# Create study area\n",
    "study_area = vnm_eez.intersection(ms_area)\n",
    "study_area_no_u_minh = study_area.difference(u_minh)"
   ]
  },
  {
   "cell_type": "code",
   "execution_count": 8,
   "metadata": {},
   "outputs": [],
   "source": [
    "zone_ne = create_polygon(102, 20.674, 110, 22).intersection(study_area[0])\n",
    "zone_nd = create_polygon(102, 19.883, 110, 20.674).intersection(study_area[0])\n",
    "zone_sd = create_polygon(102, 7, 107.055, 12).intersection(study_area[0])\n",
    "zone_cc = create_polygon(102, 7, 110, 19.883).intersection(study_area[0]).difference(zone_sd)\n",
    "zone_sd_no_u_minh = zone_sd.difference(u_minh)"
   ]
  },
  {
   "cell_type": "code",
   "execution_count": 9,
   "metadata": {},
   "outputs": [],
   "source": [
    "study_areas = gpd.GeoDataFrame({\n",
    "    \"region\": [\"North East\", \"Northern Delta\", \"Central Coast\", \"Southern Delta\", \"Southern Delta w/o U Minh\", \"Total\", \"Total w/o U Minh\", \"Vietnam Land + EEZ\"],\n",
    "    \"geometry\": [zone_ne, zone_nd, zone_cc, zone_sd, zone_sd_no_u_minh, study_area[0], study_area_no_u_minh[0], vnm_eez.geometry[0]]\n",
    "}, crs=\"EPSG:4326\").to_crs(config.output_crs)"
   ]
  },
  {
   "cell_type": "code",
   "execution_count": 10,
   "metadata": {},
   "outputs": [],
   "source": [
    "study_areas.to_file(config.study_areas_mangrove_path, driver=\"GeoJSON\")"
   ]
  },
  {
   "cell_type": "markdown",
   "metadata": {},
   "source": [
    "## Aggregate mangrove changes by zones"
   ]
  },
  {
   "cell_type": "code",
   "execution_count": 11,
   "metadata": {},
   "outputs": [
    {
     "data": {
      "text/html": [
       "<div>\n",
       "<style scoped>\n",
       "    .dataframe tbody tr th:only-of-type {\n",
       "        vertical-align: middle;\n",
       "    }\n",
       "\n",
       "    .dataframe tbody tr th {\n",
       "        vertical-align: top;\n",
       "    }\n",
       "\n",
       "    .dataframe thead th {\n",
       "        text-align: right;\n",
       "    }\n",
       "</style>\n",
       "<table border=\"1\" class=\"dataframe\">\n",
       "  <thead>\n",
       "    <tr style=\"text-align: right;\">\n",
       "      <th></th>\n",
       "      <th>geometry</th>\n",
       "      <th>region</th>\n",
       "      <th>area</th>\n",
       "      <th>src_perc</th>\n",
       "      <th>dst_perc</th>\n",
       "      <th>change_perc_total_area</th>\n",
       "      <th>change_perc_src_area</th>\n",
       "      <th>src_pixels</th>\n",
       "      <th>dst_pixels</th>\n",
       "      <th>src_area</th>\n",
       "      <th>dst_area</th>\n",
       "      <th>change_area</th>\n",
       "    </tr>\n",
       "    <tr>\n",
       "      <th>region</th>\n",
       "      <th></th>\n",
       "      <th></th>\n",
       "      <th></th>\n",
       "      <th></th>\n",
       "      <th></th>\n",
       "      <th></th>\n",
       "      <th></th>\n",
       "      <th></th>\n",
       "      <th></th>\n",
       "      <th></th>\n",
       "      <th></th>\n",
       "      <th></th>\n",
       "    </tr>\n",
       "  </thead>\n",
       "  <tbody>\n",
       "    <tr>\n",
       "      <th>North East</th>\n",
       "      <td>POLYGON ((-2125010.411 4039142.914, -2125079.3...</td>\n",
       "      <td>North East</td>\n",
       "      <td>69289.5</td>\n",
       "      <td>0.5</td>\n",
       "      <td>0.3</td>\n",
       "      <td>-0.2</td>\n",
       "      <td>-40.5</td>\n",
       "      <td>108478251.3</td>\n",
       "      <td>108478251.3</td>\n",
       "      <td>359.2</td>\n",
       "      <td>213.9</td>\n",
       "      <td>-145.3</td>\n",
       "    </tr>\n",
       "    <tr>\n",
       "      <th>Northern Delta</th>\n",
       "      <td>MULTIPOLYGON (((-2456001.972 3884000.515, -245...</td>\n",
       "      <td>Northern Delta</td>\n",
       "      <td>18372.1</td>\n",
       "      <td>0.0</td>\n",
       "      <td>0.4</td>\n",
       "      <td>0.4</td>\n",
       "      <td>3532.3</td>\n",
       "      <td>29395282.6</td>\n",
       "      <td>29395282.6</td>\n",
       "      <td>2.0</td>\n",
       "      <td>71.2</td>\n",
       "      <td>69.2</td>\n",
       "    </tr>\n",
       "    <tr>\n",
       "      <th>Central Coast</th>\n",
       "      <td>POLYGON ((-2160437.116 3812299.295, -2189199.1...</td>\n",
       "      <td>Central Coast</td>\n",
       "      <td>174871.8</td>\n",
       "      <td>0.1</td>\n",
       "      <td>0.0</td>\n",
       "      <td>-0.0</td>\n",
       "      <td>-66.2</td>\n",
       "      <td>279794904.4</td>\n",
       "      <td>279794904.4</td>\n",
       "      <td>122.3</td>\n",
       "      <td>41.3</td>\n",
       "      <td>-81.0</td>\n",
       "    </tr>\n",
       "    <tr>\n",
       "      <th>Southern Delta</th>\n",
       "      <td>MULTIPOLYGON (((-2016294.82 3014023.182, -2004...</td>\n",
       "      <td>Southern Delta</td>\n",
       "      <td>65730.5</td>\n",
       "      <td>5.9</td>\n",
       "      <td>2.4</td>\n",
       "      <td>-3.4</td>\n",
       "      <td>-58.4</td>\n",
       "      <td>105168760.2</td>\n",
       "      <td>105168760.2</td>\n",
       "      <td>3852.6</td>\n",
       "      <td>1601.2</td>\n",
       "      <td>-2251.4</td>\n",
       "    </tr>\n",
       "    <tr>\n",
       "      <th>Southern Delta w/o U Minh</th>\n",
       "      <td>MULTIPOLYGON (((-2004252.254 2826000.546, -201...</td>\n",
       "      <td>Southern Delta w/o U Minh</td>\n",
       "      <td>63907.5</td>\n",
       "      <td>4.0</td>\n",
       "      <td>2.5</td>\n",
       "      <td>-1.5</td>\n",
       "      <td>-37.7</td>\n",
       "      <td>102252039.6</td>\n",
       "      <td>102252039.6</td>\n",
       "      <td>2568.5</td>\n",
       "      <td>1601.0</td>\n",
       "      <td>-967.4</td>\n",
       "    </tr>\n",
       "    <tr>\n",
       "      <th>Total</th>\n",
       "      <td>MULTIPOLYGON (((-2364610.605 2817148.898, -236...</td>\n",
       "      <td>Total</td>\n",
       "      <td>368938.7</td>\n",
       "      <td>1.3</td>\n",
       "      <td>0.6</td>\n",
       "      <td>-0.7</td>\n",
       "      <td>-55.5</td>\n",
       "      <td>548907211.8</td>\n",
       "      <td>548907211.8</td>\n",
       "      <td>4336.0</td>\n",
       "      <td>1927.5</td>\n",
       "      <td>-2408.5</td>\n",
       "    </tr>\n",
       "    <tr>\n",
       "      <th>Total w/o U Minh</th>\n",
       "      <td>MULTIPOLYGON (((-2363261.778 2817726.593, -236...</td>\n",
       "      <td>Total w/o U Minh</td>\n",
       "      <td>367115.7</td>\n",
       "      <td>0.9</td>\n",
       "      <td>0.6</td>\n",
       "      <td>-0.3</td>\n",
       "      <td>-36.8</td>\n",
       "      <td>545990491.2</td>\n",
       "      <td>545990491.2</td>\n",
       "      <td>3051.9</td>\n",
       "      <td>1927.4</td>\n",
       "      <td>-1124.6</td>\n",
       "    </tr>\n",
       "  </tbody>\n",
       "</table>\n",
       "</div>"
      ],
      "text/plain": [
       "                                                                    geometry  \\\n",
       "region                                                                         \n",
       "North East                 POLYGON ((-2125010.411 4039142.914, -2125079.3...   \n",
       "Northern Delta             MULTIPOLYGON (((-2456001.972 3884000.515, -245...   \n",
       "Central Coast              POLYGON ((-2160437.116 3812299.295, -2189199.1...   \n",
       "Southern Delta             MULTIPOLYGON (((-2016294.82 3014023.182, -2004...   \n",
       "Southern Delta w/o U Minh  MULTIPOLYGON (((-2004252.254 2826000.546, -201...   \n",
       "Total                      MULTIPOLYGON (((-2364610.605 2817148.898, -236...   \n",
       "Total w/o U Minh           MULTIPOLYGON (((-2363261.778 2817726.593, -236...   \n",
       "\n",
       "                                              region      area  src_perc  \\\n",
       "region                                                                     \n",
       "North East                                North East   69289.5       0.5   \n",
       "Northern Delta                        Northern Delta   18372.1       0.0   \n",
       "Central Coast                          Central Coast  174871.8       0.1   \n",
       "Southern Delta                        Southern Delta   65730.5       5.9   \n",
       "Southern Delta w/o U Minh  Southern Delta w/o U Minh   63907.5       4.0   \n",
       "Total                                          Total  368938.7       1.3   \n",
       "Total w/o U Minh                    Total w/o U Minh  367115.7       0.9   \n",
       "\n",
       "                           dst_perc  change_perc_total_area  \\\n",
       "region                                                        \n",
       "North East                      0.3                    -0.2   \n",
       "Northern Delta                  0.4                     0.4   \n",
       "Central Coast                   0.0                    -0.0   \n",
       "Southern Delta                  2.4                    -3.4   \n",
       "Southern Delta w/o U Minh       2.5                    -1.5   \n",
       "Total                           0.6                    -0.7   \n",
       "Total w/o U Minh                0.6                    -0.3   \n",
       "\n",
       "                           change_perc_src_area   src_pixels   dst_pixels  \\\n",
       "region                                                                      \n",
       "North East                                -40.5  108478251.3  108478251.3   \n",
       "Northern Delta                           3532.3   29395282.6   29395282.6   \n",
       "Central Coast                             -66.2  279794904.4  279794904.4   \n",
       "Southern Delta                            -58.4  105168760.2  105168760.2   \n",
       "Southern Delta w/o U Minh                 -37.7  102252039.6  102252039.6   \n",
       "Total                                     -55.5  548907211.8  548907211.8   \n",
       "Total w/o U Minh                          -36.8  545990491.2  545990491.2   \n",
       "\n",
       "                           src_area  dst_area  change_area  \n",
       "region                                                      \n",
       "North East                    359.2     213.9       -145.3  \n",
       "Northern Delta                  2.0      71.2         69.2  \n",
       "Central Coast                 122.3      41.3        -81.0  \n",
       "Southern Delta               3852.6    1601.2      -2251.4  \n",
       "Southern Delta w/o U Minh    2568.5    1601.0       -967.4  \n",
       "Total                        4336.0    1927.5      -2408.5  \n",
       "Total w/o U Minh             3051.9    1927.4      -1124.6  "
      ]
     },
     "execution_count": 11,
     "metadata": {},
     "output_type": "execute_result"
    }
   ],
   "source": [
    "res_mangrove_change = calc_lucc_stats(\n",
    "    study_areas,\n",
    "    index_cols=\"region\",\n",
    "    src_raster=config.topo_aligned_gmw_path,\n",
    "    dst_raster=config.gmw_1996_proj_path,\n",
    "    src_mapping=topo_mapping,\n",
    "    dst_mapping=gmw_mapping,\n",
    "    src_class=\"mangrove\",\n",
    "    dst_class=\"mangrove\",\n",
    "    pixel_area=pixel_area\n",
    ")\n",
    "res_mangrove_change.drop(\"Vietnam Land + EEZ\").drop(\"geometry\", axis=1).to_csv(config.mangrove_stats_study_area, index=False)\n",
    "np.round(res_mangrove_change.drop(\"Vietnam Land + EEZ\"), 1)"
   ]
  },
  {
   "cell_type": "code",
   "execution_count": 12,
   "metadata": {},
   "outputs": [
    {
     "name": "stdout",
     "output_type": "stream",
     "text": [
      "Area not covered 34.3 km2\n",
      "Percent not covered 1.7 %\n"
     ]
    }
   ],
   "source": [
    "# Area and percentage of mangrove forests (based on GMW data 1996) not covered by the study area\n",
    "coverage_diff = res_mangrove_change.loc[\"Vietnam Land + EEZ\", \"dst_area\"] - res_mangrove_change.loc[\"Total\", \"dst_area\"]\n",
    "coverage_diff_perc = coverage_diff / res_mangrove_change.loc[\"Vietnam Land + EEZ\", \"dst_area\"]\n",
    "print(\"Area not covered\", np.round(coverage_diff, 1), \"km2\")\n",
    "print(\"Percent not covered\", np.round(coverage_diff_perc * 100, 1), \"%\")"
   ]
  },
  {
   "cell_type": "markdown",
   "metadata": {},
   "source": [
    "# Aggregate mangrove changes by map sheet"
   ]
  },
  {
   "cell_type": "code",
   "execution_count": 13,
   "metadata": {},
   "outputs": [],
   "source": [
    "# Load map sheet index\n",
    "ms_index = gpd.read_file(config.map_sheet_index_geo_overedge_path).to_crs(config.output_crs)\n",
    "ms_index = ms_index[[\"key\", \"edition\", \"map_info_date\", \"legend_type\", \"geometry\"]]\n",
    "\n",
    "# Crop to mangrove study area \n",
    "ms_index.geometry = ms_index.geometry.intersection(study_area_no_u_minh.to_crs(config.output_crs)[0])\n",
    "ms_index = ms_index[ms_index.geometry.is_empty == False]"
   ]
  },
  {
   "cell_type": "code",
   "execution_count": 14,
   "metadata": {},
   "outputs": [],
   "source": [
    "# Calculate forest cover change stats per map sheet\n",
    "ms_index = calc_lucc_stats(\n",
    "    ms_index,\n",
    "    index_cols=\"key\",\n",
    "    src_raster=config.topo_aligned_gmw_path,\n",
    "    dst_raster=config.gmw_1996_proj_path,\n",
    "    src_mapping=topo_mapping,\n",
    "    dst_mapping=gmw_mapping,\n",
    "    src_class=\"mangrove\",\n",
    "    dst_class=\"mangrove\",\n",
    "    pixel_area=pixel_area\n",
    ")\n",
    "\n",
    "ms_index[\"mangrove_loss\"] = ms_index[\"change_area\"].apply(lambda x: -x if x < 0 else 0)\n",
    "ms_index[\"mangrove_gain\"] = ms_index[\"change_area\"].apply(lambda x: x if x > 0 else 0)"
   ]
  },
  {
   "cell_type": "code",
   "execution_count": 15,
   "metadata": {},
   "outputs": [
    {
     "name": "stderr",
     "output_type": "stream",
     "text": [
      "/home/s1835403/datastore/.conda/envs/topo-maps/lib/python3.12/site-packages/pyogrio/raw.py:723: RuntimeWarning: NaN of Infinity value found. Skipped\n",
      "  ogr_write(\n"
     ]
    }
   ],
   "source": [
    "ms_index.to_file(config.mangrove_stats_map_sheets, driver=\"GeoJSON\", index=False)"
   ]
  },
  {
   "cell_type": "markdown",
   "metadata": {},
   "source": [
    "## Create vector files for figures showing stable, lost and gained areas"
   ]
  },
  {
   "cell_type": "code",
   "execution_count": 16,
   "metadata": {},
   "outputs": [
    {
     "name": "stdout",
     "output_type": "stream",
     "text": [
      "4336.02\n"
     ]
    }
   ],
   "source": [
    "# Mangrove area\n",
    "mangrove_topo = clip_and_polygonize_raster(config.topo_aligned_gmw_path, config.mangrove_raster_idx, study_area[0], \"EPSG:4326\")\n",
    "print(mangrove_topo.area.sum()/1e6)\n",
    "mangrove_topo.to_crs(\"EPSG:4326\").to_file(config.mangrove_topo_vector)"
   ]
  },
  {
   "cell_type": "code",
   "execution_count": 17,
   "metadata": {},
   "outputs": [
    {
     "name": "stdout",
     "output_type": "stream",
     "text": [
      "1927.530625\n"
     ]
    }
   ],
   "source": [
    "mangrove_gmw_1996 = clip_and_polygonize_raster(config.gmw_1996_proj_path, 1, study_area[0], \"EPSG:4326\")\n",
    "print(mangrove_gmw_1996.area.sum()/1e6)\n",
    "mangrove_gmw_1996.to_crs(\"EPSG:4326\").to_file(config.mangrove_gmw_vector, driver=\"GeoJSON\")"
   ]
  },
  {
   "cell_type": "code",
   "execution_count": 18,
   "metadata": {},
   "outputs": [
    {
     "name": "stderr",
     "output_type": "stream",
     "text": [
      "/tmp/ipykernel_2455386/2226166242.py:2: UserWarning: `keep_geom_type=True` in overlay resulted in 7877 dropped geometries of different geometry types than df1 has. Set `keep_geom_type=False` to retain all geometries\n",
      "  area_stable = gpd.overlay(mangrove_gmw_1996, mangrove_topo, how=\"intersection\")\n"
     ]
    }
   ],
   "source": [
    "# Compute intersection (original area - present in both years)\n",
    "area_stable = gpd.overlay(mangrove_gmw_1996, mangrove_topo, how=\"intersection\")\n",
    "\n",
    "# Compute area gained (present now but not in 1996)\n",
    "area_gained = gpd.overlay(mangrove_gmw_1996, mangrove_topo, how=\"difference\")\n",
    "\n",
    "# Compute area lost (present in 1996 but not now)\n",
    "area_lost = gpd.overlay(mangrove_topo, mangrove_gmw_1996, how=\"difference\")\n",
    "\n",
    "# save outputs\n",
    "area_stable.to_crs(\"EPSG:4326\").to_file(config.mangrove_stable_path)\n",
    "area_lost.to_crs(\"EPSG:4326\").to_file(config.mangrove_losses_path)\n",
    "area_gained.to_crs(\"EPSG:4326\").to_file(config.mangrove_gains_path)"
   ]
  },
  {
   "cell_type": "code",
   "execution_count": null,
   "metadata": {},
   "outputs": [],
   "source": []
  }
 ],
 "metadata": {
  "kernelspec": {
   "display_name": "Python 3",
   "language": "python",
   "name": "python3"
  },
  "language_info": {
   "codemirror_mode": {
    "name": "ipython",
    "version": 3
   },
   "file_extension": ".py",
   "mimetype": "text/x-python",
   "name": "python",
   "nbconvert_exporter": "python",
   "pygments_lexer": "ipython3",
   "version": "3.12.4"
  }
 },
 "nbformat": 4,
 "nbformat_minor": 2
}
