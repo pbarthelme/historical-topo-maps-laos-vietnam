{
 "cells": [
  {
   "cell_type": "markdown",
   "metadata": {},
   "source": [
    "### Preprocessing\n",
    "This notebooks creates the image tiles used for labelling based on a combination of stratified random sampling combined with additional samples selected adaptively based on visual interpretation of initial model results. "
   ]
  },
  {
   "cell_type": "code",
   "execution_count": 1,
   "metadata": {},
   "outputs": [],
   "source": [
    "import geopandas as gpd\n",
    "import numpy as np\n",
    "import os\n",
    "import pandas as pd\n",
    "import rasterio\n",
    "\n",
    "from exactextract import exact_extract\n",
    "from PIL import Image\n",
    "\n",
    "from config import Config\n",
    "from core.mapsheet import MapSheet\n",
    "from core.utils import get_mapping_from_csv"
   ]
  },
  {
   "cell_type": "code",
   "execution_count": 2,
   "metadata": {},
   "outputs": [],
   "source": [
    "config = Config.Config()"
   ]
  },
  {
   "cell_type": "markdown",
   "metadata": {},
   "source": [
    "### Create tile catalog"
   ]
  },
  {
   "cell_type": "code",
   "execution_count": 3,
   "metadata": {},
   "outputs": [],
   "source": [
    "map_sheet_index = gpd.read_file(config.map_sheet_index_geo_path)"
   ]
  },
  {
   "cell_type": "code",
   "execution_count": 4,
   "metadata": {},
   "outputs": [],
   "source": [
    "tiles = []\n",
    "for i, row in map_sheet_index.iterrows():\n",
    "    path = f\"{config.map_sheet_folder}/{row.key}.tif\"\n",
    "    map_sheet = MapSheet(\n",
    "        sheet_id=row.key,\n",
    "        path=path,\n",
    "        polygon=row.geometry,\n",
    "        polygon_crs=map_sheet_index.crs\n",
    "    )\n",
    "    map_sheet_tiles = (map_sheet\n",
    "                       .extract_map_tile_info(tile_size=256)\n",
    "                       # set unique id for each map sheet tile\n",
    "                       .rename_axis(\"tile_id\")\n",
    "                       .reset_index())\n",
    "    tiles.append(map_sheet_tiles)"
   ]
  },
  {
   "cell_type": "code",
   "execution_count": 5,
   "metadata": {},
   "outputs": [
    {
     "name": "stdout",
     "output_type": "stream",
     "text": [
      "(633527, 7)\n"
     ]
    },
    {
     "data": {
      "text/html": [
       "<div>\n",
       "<style scoped>\n",
       "    .dataframe tbody tr th:only-of-type {\n",
       "        vertical-align: middle;\n",
       "    }\n",
       "\n",
       "    .dataframe tbody tr th {\n",
       "        vertical-align: top;\n",
       "    }\n",
       "\n",
       "    .dataframe thead th {\n",
       "        text-align: right;\n",
       "    }\n",
       "</style>\n",
       "<table border=\"1\" class=\"dataframe\">\n",
       "  <thead>\n",
       "    <tr style=\"text-align: right;\">\n",
       "      <th></th>\n",
       "      <th>tile_id</th>\n",
       "      <th>map_id</th>\n",
       "      <th>col_off</th>\n",
       "      <th>row_off</th>\n",
       "      <th>tile_size</th>\n",
       "      <th>geometry</th>\n",
       "      <th>random_number</th>\n",
       "    </tr>\n",
       "  </thead>\n",
       "  <tbody>\n",
       "    <tr>\n",
       "      <th>0</th>\n",
       "      <td>0</td>\n",
       "      <td>50491</td>\n",
       "      <td>257</td>\n",
       "      <td>265</td>\n",
       "      <td>256</td>\n",
       "      <td>POLYGON ((100.25973 20.49268, 100.25 20.49275,...</td>\n",
       "      <td>0.235070</td>\n",
       "    </tr>\n",
       "    <tr>\n",
       "      <th>1</th>\n",
       "      <td>1</td>\n",
       "      <td>50491</td>\n",
       "      <td>257</td>\n",
       "      <td>521</td>\n",
       "      <td>256</td>\n",
       "      <td>POLYGON ((100.25973 20.49268, 100.25965 20.483...</td>\n",
       "      <td>0.697796</td>\n",
       "    </tr>\n",
       "    <tr>\n",
       "      <th>2</th>\n",
       "      <td>2</td>\n",
       "      <td>50491</td>\n",
       "      <td>257</td>\n",
       "      <td>777</td>\n",
       "      <td>256</td>\n",
       "      <td>POLYGON ((100.25965 20.48343, 100.25958 20.474...</td>\n",
       "      <td>0.265995</td>\n",
       "    </tr>\n",
       "  </tbody>\n",
       "</table>\n",
       "</div>"
      ],
      "text/plain": [
       "   tile_id  map_id  col_off  row_off  tile_size  \\\n",
       "0        0   50491      257      265        256   \n",
       "1        1   50491      257      521        256   \n",
       "2        2   50491      257      777        256   \n",
       "\n",
       "                                            geometry  random_number  \n",
       "0  POLYGON ((100.25973 20.49268, 100.25 20.49275,...       0.235070  \n",
       "1  POLYGON ((100.25973 20.49268, 100.25965 20.483...       0.697796  \n",
       "2  POLYGON ((100.25965 20.48343, 100.25958 20.474...       0.265995  "
      ]
     },
     "execution_count": 5,
     "metadata": {},
     "output_type": "execute_result"
    }
   ],
   "source": [
    "# convert tiles to combined EPSG:4131 and concatenate to combined tile dataset\n",
    "df_tiles = pd.concat([tile.to_crs(config.map_sheet_index_crs) for tile in tiles]).reset_index(drop=True)\n",
    "print(df_tiles.shape)\n",
    "df_tiles.head(3)"
   ]
  },
  {
   "cell_type": "markdown",
   "metadata": {},
   "source": [
    "### Define strata\n",
    "Use GLC_FCS30D (https://doi.org/10.5281/zenodo.8239305) land use cover data for 1985 to define a stratum for each map sheet tile. \n",
    "\n",
    "This allows the use of stratified random sampling resulting in a more balanced dataset for labelling and model training."
   ]
  },
  {
   "cell_type": "code",
   "execution_count": 6,
   "metadata": {},
   "outputs": [],
   "source": [
    "with rasterio.open(config.luc_fcs30_1985_path) as src:\n",
    "    raster_crs = src.crs\n",
    "\n",
    "df_tiles[\"luc\"] = exact_extract(config.luc_fcs30_1985_path, df_tiles.to_crs(raster_crs), [\"majority\"], output=\"pandas\")"
   ]
  },
  {
   "cell_type": "code",
   "execution_count": 7,
   "metadata": {},
   "outputs": [],
   "source": [
    "mapping_class = get_mapping_from_csv(config.luc_fcs30_legend_path, col_key=\"pixel\", col_value=\"class_detailed\")\n",
    "df_tiles[\"luc_name\"] = df_tiles[\"luc\"].map(mapping_class)\n",
    "\n",
    "mapping_stratum = get_mapping_from_csv(config.luc_fcs30_legend_path, col_key=\"pixel\", col_value=\"stratum\")\n",
    "df_tiles[\"stratum\"] = df_tiles[\"luc\"].map(mapping_stratum)"
   ]
  },
  {
   "cell_type": "code",
   "execution_count": 8,
   "metadata": {},
   "outputs": [
    {
     "data": {
      "text/plain": [
       "stratum\n",
       "Forest                    349621\n",
       "Cropland                  123452\n",
       "Shrubland or grassland    103984\n",
       "Water body                 50271\n",
       "Wetland                     5098\n",
       "Impervious surface          1101\n",
       "Name: count, dtype: int64"
      ]
     },
     "execution_count": 8,
     "metadata": {},
     "output_type": "execute_result"
    }
   ],
   "source": [
    "df_tiles[\"stratum\"].value_counts()"
   ]
  },
  {
   "cell_type": "markdown",
   "metadata": {},
   "source": [
    "### QA checks"
   ]
  },
  {
   "cell_type": "code",
   "execution_count": 9,
   "metadata": {},
   "outputs": [],
   "source": [
    "# no missing strata\n",
    "assert df_tiles[\"stratum\"].isnull().any() == False\n",
    "\n",
    "# no empty polygons\n",
    "assert df_tiles[\"geometry\"].is_empty.sum() == 0\n",
    "\n",
    "# no negative column or row offsets\n",
    "assert (df_tiles[\"row_off\"] > 0).all() \n",
    "assert (df_tiles[\"col_off\"] > 0).all() "
   ]
  },
  {
   "cell_type": "code",
   "execution_count": 10,
   "metadata": {},
   "outputs": [
    {
     "name": "stderr",
     "output_type": "stream",
     "text": [
      "/tmp/ipykernel_1482278/2884125871.py:2: UserWarning: Geometry is in a geographic CRS. Results from 'area' are likely incorrect. Use 'GeoSeries.to_crs()' to re-project geometries to a projected CRS before this operation.\n",
      "\n",
      "  return np.sum(x.area)\n"
     ]
    },
    {
     "data": {
      "text/html": [
       "<div>\n",
       "<style scoped>\n",
       "    .dataframe tbody tr th:only-of-type {\n",
       "        vertical-align: middle;\n",
       "    }\n",
       "\n",
       "    .dataframe tbody tr th {\n",
       "        vertical-align: top;\n",
       "    }\n",
       "\n",
       "    .dataframe thead th {\n",
       "        text-align: right;\n",
       "    }\n",
       "</style>\n",
       "<table border=\"1\" class=\"dataframe\">\n",
       "  <thead>\n",
       "    <tr style=\"text-align: right;\">\n",
       "      <th></th>\n",
       "      <th>geometry</th>\n",
       "    </tr>\n",
       "    <tr>\n",
       "      <th>map_id</th>\n",
       "      <th></th>\n",
       "    </tr>\n",
       "  </thead>\n",
       "  <tbody>\n",
       "    <tr>\n",
       "      <th>59262</th>\n",
       "      <td>0.054306</td>\n",
       "    </tr>\n",
       "    <tr>\n",
       "      <th>61462</th>\n",
       "      <td>0.077083</td>\n",
       "    </tr>\n",
       "  </tbody>\n",
       "</table>\n",
       "</div>"
      ],
      "text/plain": [
       "        geometry\n",
       "map_id          \n",
       "59262   0.054306\n",
       "61462   0.077083"
      ]
     },
     "execution_count": 10,
     "metadata": {},
     "output_type": "execute_result"
    }
   ],
   "source": [
    "def agg_area(x):\n",
    "    return np.sum(x.area)\n",
    "areas = df_tiles.groupby(\"map_id\").agg({\"geometry\": agg_area})\n",
    "areas[(areas[\"geometry\"] < 0.061) | (areas[\"geometry\"] > 0.063)]"
   ]
  },
  {
   "cell_type": "markdown",
   "metadata": {},
   "source": [
    "### Save final tile catalog file"
   ]
  },
  {
   "cell_type": "code",
   "execution_count": 11,
   "metadata": {},
   "outputs": [],
   "source": [
    "# save the final tile catalog including stratum\n",
    "df_tiles.to_file(config.tile_catalog_path, driver=\"GeoJSON\")"
   ]
  },
  {
   "cell_type": "markdown",
   "metadata": {},
   "source": [
    "## Create training images"
   ]
  },
  {
   "cell_type": "code",
   "execution_count": 12,
   "metadata": {},
   "outputs": [],
   "source": [
    "df_tiles = gpd.read_file(config.tile_catalog_path)\n",
    "map_sheet_index = gpd.read_file(config.map_sheet_index_geo_path)"
   ]
  },
  {
   "cell_type": "markdown",
   "metadata": {},
   "source": [
    "### Stratified random sampling"
   ]
  },
  {
   "cell_type": "code",
   "execution_count": 13,
   "metadata": {},
   "outputs": [],
   "source": [
    "# randomly select sample images for each stratum\n",
    "idx_stratified_sampling = df_tiles.groupby(\"stratum\")[\"random_number\"].nsmallest(config.samples_per_stratum).reset_index()[\"level_1\"]\n",
    "df_sample = df_tiles.iloc[idx_stratified_sampling].reset_index(drop=True)"
   ]
  },
  {
   "cell_type": "markdown",
   "metadata": {},
   "source": [
    "### Additional training images\n",
    "These were added based on visual inspection of final predictions with multiple iterations to improve the final land use cover map"
   ]
  },
  {
   "cell_type": "code",
   "execution_count": 14,
   "metadata": {},
   "outputs": [],
   "source": [
    "# batch 1 are extra tiles randomly selected for map sheets with poor model performance\n",
    "maps_extra_forest_water = [62382, 63383, 61374, 61373, 61371, 61372, 62373, 65354, 65351, 65353, 65352, 64352, 61322, 61402, 61411, 60424, 55454]\n",
    "forest_water_idx = df_tiles[df_tiles[\"map_id\"].isin(maps_extra_forest_water)][\"random_number\"].nsmallest(20).reset_index()[\"index\"]\n",
    "\n",
    "maps_extra_river_footpath = [67321, 67324, 68324, 68323, 67332, 67333, 65412]\n",
    "river_footpath_idx = df_tiles[df_tiles[\"map_id\"].isin(maps_extra_river_footpath)][\"random_number\"].nsmallest(15).reset_index()[\"index\"]\n",
    "\n",
    "maps_extra_plantation_symbols = [65321, 66331, 66383, 66384, 65381, 66394, 61392]\n",
    "plantation_symbols_idx = df_tiles[df_tiles[\"map_id\"].isin(maps_extra_plantation_symbols)][\"random_number\"].nsmallest(10).reset_index()[\"index\"]\n",
    "\n",
    "map_53503_idx = df_tiles[df_tiles[\"map_id\"] == 53503][\"random_number\"].nsmallest(5).reset_index()[\"index\"]\n",
    "map_62384_idx = df_tiles[df_tiles[\"map_id\"] == 62384][\"random_number\"].nsmallest(5).reset_index()[\"index\"]\n",
    "\n",
    "idx_extra_batch1 = [\n",
    "    *forest_water_idx, \n",
    "    *river_footpath_idx, \n",
    "    *plantation_symbols_idx,\n",
    "    *map_53503_idx,\n",
    "    *map_62384_idx,\n",
    "]"
   ]
  },
  {
   "cell_type": "code",
   "execution_count": 15,
   "metadata": {},
   "outputs": [],
   "source": [
    "# batch 2 and 3 are extra tiles based on visual interpretation of initial prediction results\n",
    "idx_extra_batch2 = pd.read_csv(config.adaptive_samples_batch2)[\"tile_index\"].to_list()\n",
    "idx_extra_batch3 = pd.read_csv(config.adaptive_samples_batch3)[\"tile_index\"].to_list()"
   ]
  },
  {
   "cell_type": "code",
   "execution_count": 16,
   "metadata": {},
   "outputs": [
    {
     "data": {
      "text/plain": [
       "746"
      ]
     },
     "execution_count": 16,
     "metadata": {},
     "output_type": "execute_result"
    }
   ],
   "source": [
    "idx_samples = [\n",
    "    *idx_stratified_sampling,\n",
    "    *idx_extra_batch1,\n",
    "    *idx_extra_batch2,\n",
    "    *idx_extra_batch3\n",
    "    ]\n",
    "\n",
    "# filter out any duplicates\n",
    "idx_samples = list(set(idx_samples))\n",
    "len(idx_samples)"
   ]
  },
  {
   "cell_type": "code",
   "execution_count": 17,
   "metadata": {},
   "outputs": [
    {
     "data": {
      "text/html": [
       "<div>\n",
       "<style scoped>\n",
       "    .dataframe tbody tr th:only-of-type {\n",
       "        vertical-align: middle;\n",
       "    }\n",
       "\n",
       "    .dataframe tbody tr th {\n",
       "        vertical-align: top;\n",
       "    }\n",
       "\n",
       "    .dataframe thead th {\n",
       "        text-align: right;\n",
       "    }\n",
       "</style>\n",
       "<table border=\"1\" class=\"dataframe\">\n",
       "  <thead>\n",
       "    <tr style=\"text-align: right;\">\n",
       "      <th></th>\n",
       "      <th>index</th>\n",
       "      <th>tile_id</th>\n",
       "      <th>map_id</th>\n",
       "      <th>col_off</th>\n",
       "      <th>row_off</th>\n",
       "      <th>tile_size</th>\n",
       "      <th>random_number</th>\n",
       "      <th>luc</th>\n",
       "      <th>luc_name</th>\n",
       "      <th>stratum</th>\n",
       "      <th>geometry</th>\n",
       "      <th>random_sample</th>\n",
       "    </tr>\n",
       "  </thead>\n",
       "  <tbody>\n",
       "    <tr>\n",
       "      <th>0</th>\n",
       "      <td>268292</td>\n",
       "      <td>483</td>\n",
       "      <td>60463</td>\n",
       "      <td>4644</td>\n",
       "      <td>2224</td>\n",
       "      <td>256</td>\n",
       "      <td>0.451872</td>\n",
       "      <td>52</td>\n",
       "      <td>Closed evergreen broadleaved forest</td>\n",
       "      <td>Forest</td>\n",
       "      <td>POLYGON ((105.16509 18.67607, 105.1651 18.6853...</td>\n",
       "      <td>False</td>\n",
       "    </tr>\n",
       "    <tr>\n",
       "      <th>1</th>\n",
       "      <td>51221</td>\n",
       "      <td>687</td>\n",
       "      <td>53503</td>\n",
       "      <td>6475</td>\n",
       "      <td>4099</td>\n",
       "      <td>256</td>\n",
       "      <td>0.003091</td>\n",
       "      <td>52</td>\n",
       "      <td>Closed evergreen broadleaved forest</td>\n",
       "      <td>Forest</td>\n",
       "      <td>POLYGON ((101.73326 20.60236, 101.73343 20.611...</td>\n",
       "      <td>False</td>\n",
       "    </tr>\n",
       "    <tr>\n",
       "      <th>2</th>\n",
       "      <td>430102</td>\n",
       "      <td>532</td>\n",
       "      <td>63303</td>\n",
       "      <td>4986</td>\n",
       "      <td>286</td>\n",
       "      <td>256</td>\n",
       "      <td>0.067877</td>\n",
       "      <td>190</td>\n",
       "      <td>Impervious surfaces</td>\n",
       "      <td>Impervious surface</td>\n",
       "      <td>POLYGON ((106.68722 10.74111, 106.67786 10.741...</td>\n",
       "      <td>True</td>\n",
       "    </tr>\n",
       "  </tbody>\n",
       "</table>\n",
       "</div>"
      ],
      "text/plain": [
       "    index  tile_id  map_id  col_off  row_off  tile_size  random_number  luc  \\\n",
       "0  268292      483   60463     4644     2224        256       0.451872   52   \n",
       "1   51221      687   53503     6475     4099        256       0.003091   52   \n",
       "2  430102      532   63303     4986      286        256       0.067877  190   \n",
       "\n",
       "                              luc_name             stratum  \\\n",
       "0  Closed evergreen broadleaved forest              Forest   \n",
       "1  Closed evergreen broadleaved forest              Forest   \n",
       "2                  Impervious surfaces  Impervious surface   \n",
       "\n",
       "                                            geometry  random_sample  \n",
       "0  POLYGON ((105.16509 18.67607, 105.1651 18.6853...          False  \n",
       "1  POLYGON ((101.73326 20.60236, 101.73343 20.611...          False  \n",
       "2  POLYGON ((106.68722 10.74111, 106.67786 10.741...           True  "
      ]
     },
     "execution_count": 17,
     "metadata": {},
     "output_type": "execute_result"
    }
   ],
   "source": [
    "# select sampled rows and indicate which ones were randomly selected\n",
    "df_sample = df_tiles.iloc[idx_samples].copy()\n",
    "df_sample[\"random_sample\"] = False\n",
    "df_sample.loc[idx_stratified_sampling, \"random_sample\"] = True\n",
    "df_sample.reset_index(inplace=True)\n",
    "df_sample.head(3)"
   ]
  },
  {
   "cell_type": "code",
   "execution_count": 18,
   "metadata": {},
   "outputs": [],
   "source": [
    "# map legend_type and map_id information back to the selected tiles for use during labelling\n",
    "legend_type_mapping = {key: lt for key, lt in zip(map_sheet_index[\"key\"], map_sheet_index[\"legend_type\"])}\n",
    "df_sample[\"legend_type\"] = df_sample[\"map_id\"].map(legend_type_mapping)\n",
    "\n",
    "map_source_mapping = {key: lt for key, lt in zip(map_sheet_index[\"key\"], map_sheet_index[\"source\"])}\n",
    "df_sample[\"nara\"] = df_sample[\"map_id\"].map(map_source_mapping) == \"NARA\""
   ]
  },
  {
   "cell_type": "code",
   "execution_count": 19,
   "metadata": {},
   "outputs": [
    {
     "data": {
      "text/plain": [
       "stratum\n",
       "Impervious surface        80\n",
       "Cropland                  80\n",
       "Water body                80\n",
       "Forest                    80\n",
       "Shrubland or grassland    80\n",
       "Wetland                   80\n",
       "Name: count, dtype: int64"
      ]
     },
     "execution_count": 19,
     "metadata": {},
     "output_type": "execute_result"
    }
   ],
   "source": [
    "df_sample[df_sample[\"random_sample\"]][\"stratum\"].value_counts()"
   ]
  },
  {
   "cell_type": "code",
   "execution_count": 20,
   "metadata": {},
   "outputs": [
    {
     "data": {
      "text/plain": [
       "stratum\n",
       "Forest                    158\n",
       "Water body                 42\n",
       "Cropland                   41\n",
       "Shrubland or grassland     21\n",
       "Wetland                     4\n",
       "Name: count, dtype: int64"
      ]
     },
     "execution_count": 20,
     "metadata": {},
     "output_type": "execute_result"
    }
   ],
   "source": [
    "df_sample[~df_sample[\"random_sample\"]][\"stratum\"].value_counts()"
   ]
  },
  {
   "cell_type": "code",
   "execution_count": 21,
   "metadata": {},
   "outputs": [],
   "source": [
    "# write image tiles for each selected tile \n",
    "if not os.path.exists(config.tile_folder):\n",
    "    os.makedirs(config.tile_folder)\n",
    "\n",
    "for index, row in df_sample.iterrows():\n",
    "    polygon = map_sheet_index[map_sheet_index[\"key\"] == row.map_id][\"geometry\"].iloc[0]\n",
    "    path = f\"{config.map_sheet_folder}/{row.map_id}.tif\"\n",
    "    map_sheet = MapSheet(\n",
    "        sheet_id=row.map_id,\n",
    "        path=path,\n",
    "        polygon=polygon,\n",
    "        polygon_crs=map_sheet_index.crs\n",
    "    )\n",
    "\n",
    "    # load image from raster and convert to PIL\n",
    "    tile = map_sheet.extract_map_tile(row.col_off, row.row_off, tile_size=config.tile_size)\n",
    "    image = Image.fromarray(tile.transpose(1, 2, 0))  \n",
    "\n",
    "    # add nara indicator to file path to avoid duplicates as NARA map sheets \n",
    "    # were added later partly replacing previous versions from other sources\n",
    "    nara_id = \"_1\" if row.nara else \"\"\n",
    "    tile_name = f\"{row.map_id}{nara_id}_{row.col_off}_{row.row_off}.png\"\n",
    "    output_path = f\"{config.tile_folder}/{tile_name}\"\n",
    "\n",
    "    # save the image\n",
    "    image.save(output_path)\n",
    "\n",
    "    # update the tile catalog with the tile path\n",
    "    df_sample.loc[index, \"tile_name\"] = tile_name\n",
    "    df_sample.loc[index, \"tile_path\"] = output_path\n",
    "\n",
    "# save the sample tile catalog with added tile paths\n",
    "df_sample.to_file(config.sample_catalog_path, driver=\"GeoJSON\")"
   ]
  }
 ],
 "metadata": {
  "kernelspec": {
   "display_name": "Python 3",
   "language": "python",
   "name": "python3"
  },
  "language_info": {
   "codemirror_mode": {
    "name": "ipython",
    "version": 3
   },
   "file_extension": ".py",
   "mimetype": "text/x-python",
   "name": "python",
   "nbconvert_exporter": "python",
   "pygments_lexer": "ipython3",
   "version": "3.12.4"
  }
 },
 "nbformat": 4,
 "nbformat_minor": 2
}
