{
 "cells": [
  {
   "cell_type": "markdown",
   "metadata": {},
   "source": [
    "# Training Data\n",
    "This notebook creates the training data by combining image tiles with label tiles created based on annotations in Labelbox. The tiles are split into training and a validation sets using a stratified split."
   ]
  },
  {
   "cell_type": "code",
   "execution_count": 1,
   "metadata": {},
   "outputs": [],
   "source": [
    "import geopandas as gpd\n",
    "import numpy as np\n",
    "\n",
    "from PIL import Image\n",
    "from sklearn.model_selection import train_test_split\n",
    "\n",
    "from config import Config"
   ]
  },
  {
   "cell_type": "code",
   "execution_count": 2,
   "metadata": {},
   "outputs": [],
   "source": [
    "def read_images_and_labels(tile_names, tile_dir, label_dir):\n",
    "    \"\"\"Reads image and label tiles from the specified directories and stacks them into numpy arrays.\"\"\"\n",
    "    images = []\n",
    "    labels = []\n",
    "\n",
    "    for tile_name in tile_names:\n",
    "        img_path = f\"{tile_dir}/{tile_name}\"\n",
    "        label_path = f\"{label_dir}/{tile_name}\"\n",
    "\n",
    "        # Read and append image\n",
    "        img = Image.open(img_path)\n",
    "        images.append(np.array(img))\n",
    "\n",
    "        # Read and append label\n",
    "        label = Image.open(label_path)\n",
    "        labels.append(np.array(label))\n",
    "\n",
    "    return np.stack(images), np.stack(labels)"
   ]
  },
  {
   "cell_type": "code",
   "execution_count": 3,
   "metadata": {},
   "outputs": [],
   "source": [
    "config = Config.Config()"
   ]
  },
  {
   "cell_type": "code",
   "execution_count": 4,
   "metadata": {},
   "outputs": [
    {
     "data": {
      "text/html": [
       "<div>\n",
       "<style scoped>\n",
       "    .dataframe tbody tr th:only-of-type {\n",
       "        vertical-align: middle;\n",
       "    }\n",
       "\n",
       "    .dataframe tbody tr th {\n",
       "        vertical-align: top;\n",
       "    }\n",
       "\n",
       "    .dataframe thead th {\n",
       "        text-align: right;\n",
       "    }\n",
       "</style>\n",
       "<table border=\"1\" class=\"dataframe\">\n",
       "  <thead>\n",
       "    <tr style=\"text-align: right;\">\n",
       "      <th></th>\n",
       "      <th>index</th>\n",
       "      <th>tile_id</th>\n",
       "      <th>map_id</th>\n",
       "      <th>col_off</th>\n",
       "      <th>row_off</th>\n",
       "      <th>tile_size</th>\n",
       "      <th>random_number</th>\n",
       "      <th>luc</th>\n",
       "      <th>luc_name</th>\n",
       "      <th>stratum</th>\n",
       "      <th>random_sample</th>\n",
       "      <th>legend_type</th>\n",
       "      <th>nara</th>\n",
       "      <th>tile_name</th>\n",
       "      <th>tile_path</th>\n",
       "      <th>geometry</th>\n",
       "    </tr>\n",
       "  </thead>\n",
       "  <tbody>\n",
       "    <tr>\n",
       "      <th>0</th>\n",
       "      <td>268292</td>\n",
       "      <td>483</td>\n",
       "      <td>60463</td>\n",
       "      <td>4644</td>\n",
       "      <td>2224</td>\n",
       "      <td>256</td>\n",
       "      <td>0.451872</td>\n",
       "      <td>52</td>\n",
       "      <td>Closed evergreen broadleaved forest</td>\n",
       "      <td>Forest</td>\n",
       "      <td>False</td>\n",
       "      <td>3</td>\n",
       "      <td>False</td>\n",
       "      <td>60463_4644_2224.png</td>\n",
       "      <td>../data/processed/image_tiles/60463_4644_2224.png</td>\n",
       "      <td>POLYGON ((105.16509 18.67607, 105.1651 18.6853...</td>\n",
       "    </tr>\n",
       "    <tr>\n",
       "      <th>1</th>\n",
       "      <td>51221</td>\n",
       "      <td>687</td>\n",
       "      <td>53503</td>\n",
       "      <td>6475</td>\n",
       "      <td>4099</td>\n",
       "      <td>256</td>\n",
       "      <td>0.003091</td>\n",
       "      <td>52</td>\n",
       "      <td>Closed evergreen broadleaved forest</td>\n",
       "      <td>Forest</td>\n",
       "      <td>False</td>\n",
       "      <td>6</td>\n",
       "      <td>False</td>\n",
       "      <td>53503_6475_4099.png</td>\n",
       "      <td>../data/processed/image_tiles/53503_6475_4099.png</td>\n",
       "      <td>POLYGON ((101.73326 20.60236, 101.73343 20.611...</td>\n",
       "    </tr>\n",
       "    <tr>\n",
       "      <th>2</th>\n",
       "      <td>430102</td>\n",
       "      <td>532</td>\n",
       "      <td>63303</td>\n",
       "      <td>4986</td>\n",
       "      <td>286</td>\n",
       "      <td>256</td>\n",
       "      <td>0.067877</td>\n",
       "      <td>190</td>\n",
       "      <td>Impervious surfaces</td>\n",
       "      <td>Impervious surface</td>\n",
       "      <td>True</td>\n",
       "      <td>1</td>\n",
       "      <td>False</td>\n",
       "      <td>63303_4986_286.png</td>\n",
       "      <td>../data/processed/image_tiles/63303_4986_286.png</td>\n",
       "      <td>POLYGON ((106.68722 10.74111, 106.67786 10.741...</td>\n",
       "    </tr>\n",
       "  </tbody>\n",
       "</table>\n",
       "</div>"
      ],
      "text/plain": [
       "    index  tile_id  map_id  col_off  row_off  tile_size  random_number  luc  \\\n",
       "0  268292      483   60463     4644     2224        256       0.451872   52   \n",
       "1   51221      687   53503     6475     4099        256       0.003091   52   \n",
       "2  430102      532   63303     4986      286        256       0.067877  190   \n",
       "\n",
       "                              luc_name             stratum  random_sample  \\\n",
       "0  Closed evergreen broadleaved forest              Forest          False   \n",
       "1  Closed evergreen broadleaved forest              Forest          False   \n",
       "2                  Impervious surfaces  Impervious surface           True   \n",
       "\n",
       "   legend_type   nara            tile_name  \\\n",
       "0            3  False  60463_4644_2224.png   \n",
       "1            6  False  53503_6475_4099.png   \n",
       "2            1  False   63303_4986_286.png   \n",
       "\n",
       "                                           tile_path  \\\n",
       "0  ../data/processed/image_tiles/60463_4644_2224.png   \n",
       "1  ../data/processed/image_tiles/53503_6475_4099.png   \n",
       "2   ../data/processed/image_tiles/63303_4986_286.png   \n",
       "\n",
       "                                            geometry  \n",
       "0  POLYGON ((105.16509 18.67607, 105.1651 18.6853...  \n",
       "1  POLYGON ((101.73326 20.60236, 101.73343 20.611...  \n",
       "2  POLYGON ((106.68722 10.74111, 106.67786 10.741...  "
      ]
     },
     "execution_count": 4,
     "metadata": {},
     "output_type": "execute_result"
    }
   ],
   "source": [
    "sample_catalog = gpd.read_file(config.sample_catalog_path)\n",
    "sample_catalog.head(3)"
   ]
  },
  {
   "cell_type": "code",
   "execution_count": 5,
   "metadata": {},
   "outputs": [
    {
     "data": {
      "text/plain": [
       "(559, 187)"
      ]
     },
     "execution_count": 5,
     "metadata": {},
     "output_type": "execute_result"
    }
   ],
   "source": [
    "# create train/validation split of all labelled images\n",
    "train_df, val_df = train_test_split(\n",
    "    sample_catalog,\n",
    "    train_size=config.prop_train,\n",
    "    stratify=sample_catalog[\"stratum\"],\n",
    "    random_state=config.seed\n",
    "    )\n",
    "\n",
    "len(train_df), len(val_df)"
   ]
  },
  {
   "cell_type": "code",
   "execution_count": 6,
   "metadata": {},
   "outputs": [
    {
     "data": {
      "text/plain": [
       "stratum\n",
       "Forest                    178\n",
       "Water body                 91\n",
       "Cropland                   91\n",
       "Shrubland or grassland     76\n",
       "Wetland                    63\n",
       "Impervious surface         60\n",
       "Name: count, dtype: int64"
      ]
     },
     "execution_count": 6,
     "metadata": {},
     "output_type": "execute_result"
    }
   ],
   "source": [
    "train_df[\"stratum\"].value_counts()"
   ]
  },
  {
   "cell_type": "code",
   "execution_count": 7,
   "metadata": {},
   "outputs": [
    {
     "data": {
      "text/plain": [
       "stratum\n",
       "Forest                    60\n",
       "Water body                31\n",
       "Cropland                  30\n",
       "Shrubland or grassland    25\n",
       "Wetland                   21\n",
       "Impervious surface        20\n",
       "Name: count, dtype: int64"
      ]
     },
     "execution_count": 7,
     "metadata": {},
     "output_type": "execute_result"
    }
   ],
   "source": [
    "val_df[\"stratum\"].value_counts()"
   ]
  },
  {
   "cell_type": "code",
   "execution_count": 8,
   "metadata": {},
   "outputs": [],
   "source": [
    "# load matching image and label tiles and stack them in a npz file  \n",
    "res = {}\n",
    "res[\"train\"] = read_images_and_labels(train_df[\"tile_name\"], config.tile_folder, config.label_folder)\n",
    "res[\"val\"] = read_images_and_labels(val_df[\"tile_name\"], config.tile_folder, config.label_folder)\n",
    "\n",
    "np.savez(config.training_data_path,\n",
    "        x_train=res[\"train\"][0], y_train=res[\"train\"][1],\n",
    "        x_val=res[\"val\"][0], y_val=res[\"val\"][1],\n",
    "        )"
   ]
  },
  {
   "cell_type": "code",
   "execution_count": 9,
   "metadata": {},
   "outputs": [
    {
     "name": "stdout",
     "output_type": "stream",
     "text": [
      "(559, 256, 256, 3) (559, 256, 256)\n",
      "(187, 256, 256, 3) (187, 256, 256)\n"
     ]
    }
   ],
   "source": [
    "# test loading the data\n",
    "data = np.load(config.training_data_path)\n",
    "x_train = data[\"x_train\"]/255. \n",
    "y_train = data[\"y_train\"]\n",
    "x_val = data[\"x_val\"]/255.\n",
    "y_val = data[\"y_val\"]\n",
    "\n",
    "print(x_train.shape, y_train.shape)\n",
    "print(x_val.shape, y_val.shape)"
   ]
  },
  {
   "cell_type": "code",
   "execution_count": 10,
   "metadata": {},
   "outputs": [
    {
     "data": {
      "text/plain": [
       "array([ 2079055,   302345,   317012,   313506,   272977,  2972769,\n",
       "       14152968,  2704830,   323444,  1117247,   334315,  1456809,\n",
       "        6422167,  3012299,   262017,    84906,   505958])"
      ]
     },
     "execution_count": 10,
     "metadata": {},
     "output_type": "execute_result"
    }
   ],
   "source": [
    "train_counts = np.bincount(y_train.flatten())\n",
    "train_counts"
   ]
  },
  {
   "cell_type": "code",
   "execution_count": 11,
   "metadata": {},
   "outputs": [
    {
     "data": {
      "text/plain": [
       "array([ 778299,   53809,  110629,   70634,  108815, 1258294, 4685943,\n",
       "        711945,  146061,  398510,  178153,  557758, 2100006,  855473,\n",
       "         31302,   23512,  186089])"
      ]
     },
     "execution_count": 11,
     "metadata": {},
     "output_type": "execute_result"
    }
   ],
   "source": [
    "val_counts = np.bincount(y_val.flatten())\n",
    "val_counts"
   ]
  }
 ],
 "metadata": {
  "kernelspec": {
   "display_name": "Python 3",
   "language": "python",
   "name": "python3"
  },
  "language_info": {
   "codemirror_mode": {
    "name": "ipython",
    "version": 3
   },
   "file_extension": ".py",
   "mimetype": "text/x-python",
   "name": "python",
   "nbconvert_exporter": "python",
   "pygments_lexer": "ipython3",
   "version": "3.12.4"
  }
 },
 "nbformat": 4,
 "nbformat_minor": 2
}
